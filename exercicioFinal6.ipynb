{
 "cells": [
  {
   "cell_type": "code",
   "execution_count": null,
   "id": "28869c72",
   "metadata": {},
   "outputs": [
    {
     "name": "stderr",
     "output_type": "stream",
     "text": [
      "25/04/05 00:20:51 WARN Utils: Your hostname, codespaces-8fd613 resolves to a loopback address: 127.0.0.1; using 10.0.0.176 instead (on interface eth0)\n",
      "25/04/05 00:20:51 WARN Utils: Set SPARK_LOCAL_IP if you need to bind to another address\n",
      "Setting default log level to \"WARN\".\n",
      "To adjust logging level use sc.setLogLevel(newLevel). For SparkR, use setLogLevel(newLevel).\n",
      "25/04/05 00:20:52 WARN NativeCodeLoader: Unable to load native-hadoop library for your platform... using builtin-java classes where applicable\n",
      "25/04/05 00:20:53 WARN Utils: Service 'SparkUI' could not bind on port 4040. Attempting port 4041.\n",
      "25/04/05 00:20:53 WARN Utils: Service 'SparkUI' could not bind on port 4041. Attempting port 4042.\n",
      "25/04/05 00:20:53 WARN Utils: Service 'SparkUI' could not bind on port 4042. Attempting port 4043.\n",
      "25/04/05 00:20:53 WARN Utils: Service 'SparkUI' could not bind on port 4043. Attempting port 4044.\n",
      "25/04/05 00:20:53 WARN Utils: Service 'SparkUI' could not bind on port 4044. Attempting port 4045.\n"
     ]
    },
    {
     "name": "stdout",
     "output_type": "stream",
     "text": [
      "🔹 Dados de vendas carregados:\n",
      "+----------+------------+-----------+\n",
      "|id_cliente|valor_compra|data_compra|\n",
      "+----------+------------+-----------+\n",
      "|     C0005|      248.31| 2024-11-23|\n",
      "|     C0049|      679.63| 2024-09-02|\n",
      "|     C0018|      252.19| 2024-05-31|\n",
      "|     C0008|      383.54| 2024-09-03|\n",
      "|     C0036|       35.99| 2024-11-29|\n",
      "|     C0047|      234.29| 2024-10-17|\n",
      "|     C0044|      407.28| 2024-05-24|\n",
      "|     C0011|      690.12| 2025-02-05|\n",
      "|     C0049|      304.46| 2024-09-09|\n",
      "|     C0003|      128.03| 2024-10-26|\n",
      "|     C0042|      546.38| 2024-09-27|\n",
      "|     C0049|      739.79| 2024-07-23|\n",
      "|     C0020|      421.61| 2025-04-01|\n",
      "|     C0034|      551.33| 2025-02-22|\n",
      "|     C0017|      651.53| 2024-08-20|\n",
      "|     C0035|      723.12| 2024-12-11|\n",
      "|     C0025|      284.05| 2024-07-09|\n",
      "|     C0044|      546.02| 2024-11-04|\n",
      "|     C0027|       98.59| 2024-08-07|\n",
      "|     C0039|      712.68| 2024-08-22|\n",
      "+----------+------------+-----------+\n",
      "only showing top 20 rows\n",
      "\n",
      "🔹 Clientes com maior valor de compra:\n",
      "+----------+-----------+\n",
      "|id_cliente|maior_valor|\n",
      "+----------+-----------+\n",
      "|     C0012|     994.41|\n",
      "|     C0042|     983.84|\n",
      "|     C0024|      978.6|\n",
      "|     C0029|     963.55|\n",
      "|     C0044|     960.95|\n",
      "|     C0007|     960.36|\n",
      "|     C0019|     953.37|\n",
      "|     C0031|     951.75|\n",
      "|     C0026|     945.94|\n",
      "|     C0038|     931.85|\n",
      "|     C0046|     930.84|\n",
      "|     C0032|     928.07|\n",
      "|     C0006|     927.62|\n",
      "|     C0035|     915.84|\n",
      "|     C0015|      910.5|\n",
      "|     C0013|     896.43|\n",
      "|     C0023|     887.09|\n",
      "|     C0025|     885.32|\n",
      "|     C0009|     881.47|\n",
      "|     C0043|     854.81|\n",
      "+----------+-----------+\n",
      "only showing top 20 rows\n",
      "\n",
      "🔹 Total de vendas por ano:\n",
      "+----+------------------+\n",
      "| ano|      total_vendas|\n",
      "+----+------------------+\n",
      "|2024| 72100.33999999998|\n",
      "|2025|29341.639999999992|\n",
      "+----+------------------+\n",
      "\n",
      "✅ Resultados salvos na pasta 'saida/'\n"
     ]
    },
    {
     "name": "stderr",
     "output_type": "stream",
     "text": [
      "25/04/05 00:21:08 WARN GarbageCollectionMetrics: To enable non-built-in garbage collector(s) List(G1 Concurrent GC), users should configure it(them) to spark.eventLog.gcMetrics.youngGenerationGarbageCollectors or spark.eventLog.gcMetrics.oldGenerationGarbageCollectors\n"
     ]
    }
   ],
   "source": [
    "from pyspark.sql import SparkSession\n",
    "from pyspark.sql.functions import col, year, max, sum\n",
    "\n",
    "spark = SparkSession.builder.appName(\"DesafioFinalSpark\").getOrCreate()\n",
    "\n",
    "df_vendas = spark.read.csv(\"./utilizaveis/vendas_ficticias.csv\", header=True, inferSchema=True)\n",
    "\n",
    "print(\"🔹 Dados de vendas carregados:\")\n",
    "df_vendas.show()\n",
    "\n",
    "print(\"🔹 Clientes com maior valor de compra:\")\n",
    "maior_compra_por_cliente = df_vendas.groupBy(\"id_cliente\") \\\n",
    "    .agg(max(\"valor_compra\").alias(\"maior_valor\"))\n",
    "\n",
    "maior_compra_por_cliente.orderBy(col(\"maior_valor\").desc()).show()\n",
    "\n",
    "print(\"🔹 Total de vendas por ano:\")\n",
    "\n",
    "df_vendas_com_ano = df_vendas.withColumn(\"ano\", year(col(\"data_compra\")))\n",
    "\n",
    "total_por_ano = df_vendas_com_ano.groupBy(\"ano\") \\\n",
    "    .agg(sum(\"valor_compra\").alias(\"total_vendas\"))\n",
    "\n",
    "total_por_ano.orderBy(\"ano\").show()\n",
    "\n",
    "maior_compra_por_cliente.write.mode(\"overwrite\").csv(\"saida/maior_compra_por_cliente\", header=True)\n",
    "total_por_ano.write.mode(\"overwrite\").csv(\"saida/total_vendas_por_ano\", header=True)\n",
    "\n",
    "print(\"✅ Resultados salvos na pasta 'saida/'\")\n"
   ]
  }
 ],
 "metadata": {
  "kernelspec": {
   "display_name": "Python 3",
   "language": "python",
   "name": "python3"
  },
  "language_info": {
   "codemirror_mode": {
    "name": "ipython",
    "version": 3
   },
   "file_extension": ".py",
   "mimetype": "text/x-python",
   "name": "python",
   "nbconvert_exporter": "python",
   "pygments_lexer": "ipython3",
   "version": "3.12.1"
  }
 },
 "nbformat": 4,
 "nbformat_minor": 5
}

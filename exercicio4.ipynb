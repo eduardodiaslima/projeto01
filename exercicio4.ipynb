{
 "cells": [
  {
   "cell_type": "code",
   "execution_count": 2,
   "id": "31824b06",
   "metadata": {},
   "outputs": [
    {
     "name": "stdout",
     "output_type": "stream",
     "text": [
      "🔹 Primeiras 5 linhas do DataFrame:\n",
      "+--------------+-----+--------------+\n",
      "|          nome|idade|        cidade|\n",
      "+--------------+-----+--------------+\n",
      "|   Alice Souza|   28|      Curitiba|\n",
      "|    Bruno Lima|   34|      Salvador|\n",
      "|  Carla Mendes|   22|        Recife|\n",
      "|  Daniel Rocha|   40|Belo Horizonte|\n",
      "|Eduarda Castro|   25|  Porto Alegre|\n",
      "+--------------+-----+--------------+\n",
      "only showing top 5 rows\n",
      "\n",
      "🔹 Pessoas que moram na cidade 'São Paulo':\n",
      "+--------------+-----+---------+\n",
      "|          nome|idade|   cidade|\n",
      "+--------------+-----+---------+\n",
      "|Isabela Torres|   30|São Paulo|\n",
      "+--------------+-----+---------+\n",
      "\n",
      "🔹 Soma das idades:\n",
      "+---------------+\n",
      "|soma_das_idades|\n",
      "+---------------+\n",
      "|            444|\n",
      "+---------------+\n",
      "\n"
     ]
    }
   ],
   "source": [
    "from pyspark.sql import SparkSession\n",
    "from pyspark.sql.functions import col, upper, avg\n",
    "\n",
    "\n",
    "spark = SparkSession.builder.appName(\"ExercicioSpark\").getOrCreate()\n",
    "\n",
    "df = spark.read.csv(\"./utilizaveis/dados.csv\", header=True, inferSchema=True)\n",
    "\n",
    "print(\"🔹 Primeiras 5 linhas do DataFrame:\")\n",
    "df.show(5)\n",
    "\n",
    "\n",
    "df.createOrReplaceTempView(\"tabela_pessoas\")\n",
    "\n",
    "cidade_especifica = \"São Paulo\"\n",
    "\n",
    "consulta_cidade = f\"\"\"\n",
    "    SELECT * FROM tabela_pessoas WHERE cidade = '{cidade_especifica}'\n",
    "\"\"\"\n",
    "pessoas_na_cidade = spark.sql(consulta_cidade)\n",
    "print(f\"🔹 Pessoas que moram na cidade '{cidade_especifica}':\")\n",
    "pessoas_na_cidade.show()\n",
    "\n",
    "consulta_soma_idades = \"\"\"\n",
    "    SELECT SUM(idade) AS soma_das_idades FROM tabela_pessoas\n",
    "\"\"\"\n",
    "soma_idades = spark.sql(consulta_soma_idades)\n",
    "print(\"🔹 Soma das idades:\")\n",
    "soma_idades.show()"
   ]
  }
 ],
 "metadata": {
  "kernelspec": {
   "display_name": "Python 3",
   "language": "python",
   "name": "python3"
  },
  "language_info": {
   "codemirror_mode": {
    "name": "ipython",
    "version": 3
   },
   "file_extension": ".py",
   "mimetype": "text/x-python",
   "name": "python",
   "nbconvert_exporter": "python",
   "pygments_lexer": "ipython3",
   "version": "3.12.1"
  }
 },
 "nbformat": 4,
 "nbformat_minor": 5
}

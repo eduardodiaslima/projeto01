{
 "cells": [
  {
   "cell_type": "code",
   "execution_count": 3,
   "id": "c1f2e3e7",
   "metadata": {},
   "outputs": [
    {
     "name": "stdout",
     "output_type": "stream",
     "text": [
      "Primeiras 5 linhas do DataFrame:\n",
      "+---------+-----+--------------+\n",
      "|     nome|idade|        cidade|\n",
      "+---------+-----+--------------+\n",
      "|Guilherme|   12|     São Paulo|\n",
      "|  Eduardo|   15|Rio de Janeiro|\n",
      "|     Caio|   16|Espirito Santo|\n",
      "|    Cesar|   19|      Sorocaba|\n",
      "|     Rafa|   26|         Goias|\n",
      "+---------+-----+--------------+\n",
      "\n",
      "Pessoas com idade acima de 25:\n",
      "+----+-----+------+\n",
      "|nome|idade|cidade|\n",
      "+----+-----+------+\n",
      "|Rafa|   26| Goias|\n",
      "+----+-----+------+\n",
      "\n"
     ]
    }
   ],
   "source": [
    "from pyspark.sql import SparkSession\n",
    "from pyspark.sql.functions import col  \n",
    "\n",
    "spark = SparkSession.builder.appName(\"ExercicioSpark\").getOrCreate()\n",
    "\n",
    "df = spark.read.csv(\"./utilizaveis/dados.csv\", header=True, inferSchema=True)\n",
    "\n",
    "# Exibir as primeiras 5 linhas do DataFrame\n",
    "print(\"Primeiras 5 linhas do DataFrame:\")\n",
    "df.show(5)\n",
    "\n",
    "# Filtrar as pessoas com idade acima de 25\n",
    "print(\"Pessoas com idade acima de 25:\")\n",
    "df.filter(col(\"idade\") > 25).show()\n"
   ]
  }
 ],
 "metadata": {
  "kernelspec": {
   "display_name": "Python 3",
   "language": "python",
   "name": "python3"
  },
  "language_info": {
   "codemirror_mode": {
    "name": "ipython",
    "version": 3
   },
   "file_extension": ".py",
   "mimetype": "text/x-python",
   "name": "python",
   "nbconvert_exporter": "python",
   "pygments_lexer": "ipython3",
   "version": "3.12.1"
  }
 },
 "nbformat": 4,
 "nbformat_minor": 5
}

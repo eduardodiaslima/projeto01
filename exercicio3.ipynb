{
 "cells": [
  {
   "cell_type": "code",
   "execution_count": 2,
   "id": "eb4241ec",
   "metadata": {},
   "outputs": [
    {
     "name": "stdout",
     "output_type": "stream",
     "text": [
      "🔹 Primeiras 5 linhas do DataFrame:\n",
      "+---------+-----+--------------+\n",
      "|     nome|idade|        cidade|\n",
      "+---------+-----+--------------+\n",
      "|guilherme|   12|     São Paulo|\n",
      "|  eduardo|   15|Rio de Janeiro|\n",
      "|     caio|   16|Espirito Santo|\n",
      "|    cesar|   19|      Sorocaba|\n",
      "|     rafa|   26|         Goias|\n",
      "+---------+-----+--------------+\n",
      "\n",
      "🔹 Idade média das pessoas:\n",
      "+-----------+\n",
      "|idade_media|\n",
      "+-----------+\n",
      "|       17.6|\n",
      "+-----------+\n",
      "\n",
      "🔹 Número de pessoas por cidade:\n",
      "+--------------+-----+\n",
      "|        cidade|count|\n",
      "+--------------+-----+\n",
      "|Espirito Santo|    1|\n",
      "|      Sorocaba|    1|\n",
      "|         Goias|    1|\n",
      "|     São Paulo|    1|\n",
      "|Rio de Janeiro|    1|\n",
      "+--------------+-----+\n",
      "\n"
     ]
    }
   ],
   "source": [
    "from pyspark.sql import SparkSession\n",
    "from pyspark.sql.functions import col, upper, avg\n",
    "\n",
    "\n",
    "spark = SparkSession.builder.appName(\"ExercicioSpark\").getOrCreate()\n",
    "\n",
    "df = spark.read.csv(\"./utilizaveis/dados.csv\", header=True, inferSchema=True)\n",
    "\n",
    "# Exibir as primeiras 5 linhas do DataFrame\n",
    "print(\"🔹 Primeiras 5 linhas do DataFrame:\")\n",
    "df.show(5)\n",
    "\n",
    "# Calcular a idade média das pessoas no DataFrame usando .agg() e avg\n",
    "idade_media = df.agg(avg(\"idade\").alias(\"idade_media\"))\n",
    "print(\"🔹 Idade média das pessoas:\")\n",
    "idade_media.show()\n",
    "\n",
    "# Contar o número de pessoas por cidade usando .groupBy() e .count()\n",
    "pessoas_por_cidade = df.groupBy(\"cidade\").count()\n",
    "print(\"🔹 Número de pessoas por cidade:\")\n",
    "pessoas_por_cidade.show()\n"
   ]
  }
 ],
 "metadata": {
  "kernelspec": {
   "display_name": "Python 3",
   "language": "python",
   "name": "python3"
  },
  "language_info": {
   "codemirror_mode": {
    "name": "ipython",
    "version": 3
   },
   "file_extension": ".py",
   "mimetype": "text/x-python",
   "name": "python",
   "nbconvert_exporter": "python",
   "pygments_lexer": "ipython3",
   "version": "3.12.1"
  }
 },
 "nbformat": 4,
 "nbformat_minor": 5
}

{
 "cells": [
  {
   "cell_type": "code",
   "execution_count": 2,
   "id": "b65caa58",
   "metadata": {},
   "outputs": [
    {
     "name": "stderr",
     "output_type": "stream",
     "text": [
      "25/04/04 23:52:30 WARN GarbageCollectionMetrics: To enable non-built-in garbage collector(s) List(G1 Concurrent GC), users should configure it(them) to spark.eventLog.gcMetrics.youngGenerationGarbageCollectors or spark.eventLog.gcMetrics.oldGenerationGarbageCollectors\n"
     ]
    },
    {
     "name": "stdout",
     "output_type": "stream",
     "text": [
      "Colunas selecionadas:\n",
      "+---------+--------------+\n",
      "|     nome|        cidade|\n",
      "+---------+--------------+\n",
      "|guilherme|     São Paulo|\n",
      "|  eduardo|Rio de Janeiro|\n",
      "|     caio|Espirito Santo|\n",
      "|    cesar|      Sorocaba|\n",
      "|     rafa|         Goias|\n",
      "+---------+--------------+\n",
      "\n",
      "Dados ordenados pela idade (decrescente):\n",
      "+---------+-----+--------------+\n",
      "|     nome|idade|        cidade|\n",
      "+---------+-----+--------------+\n",
      "|     rafa|   26|         Goias|\n",
      "|    cesar|   19|      Sorocaba|\n",
      "|     caio|   16|Espirito Santo|\n",
      "|  eduardo|   15|Rio de Janeiro|\n",
      "|guilherme|   12|     São Paulo|\n",
      "+---------+-----+--------------+\n",
      "\n",
      "Nomes em letras maiúsculas:\n",
      "+---------+-----+--------------+\n",
      "|     nome|idade|        cidade|\n",
      "+---------+-----+--------------+\n",
      "|GUILHERME|   12|     São Paulo|\n",
      "|  EDUARDO|   15|Rio de Janeiro|\n",
      "|     CAIO|   16|Espirito Santo|\n",
      "|    CESAR|   19|      Sorocaba|\n",
      "|     RAFA|   26|         Goias|\n",
      "+---------+-----+--------------+\n",
      "\n"
     ]
    }
   ],
   "source": [
    "from pyspark.sql import SparkSession\n",
    "from pyspark.sql.functions import col, upper\n",
    "\n",
    "spark = SparkSession.builder.appName(\"ExercicioSpark\").getOrCreate()\n",
    "\n",
    "df = spark.read.csv(\"./utilizaveis/dados.csv\", header=True, inferSchema=True)\n",
    "\n",
    "\n",
    "df_selecionado = df.select(\"nome\", \"cidade\")\n",
    "print(\"Colunas selecionadas:\")\n",
    "df_selecionado.show()\n",
    "\n",
    "df_ordenado = df.orderBy(col(\"idade\").desc())\n",
    "print(\"Dados ordenados pela idade (decrescente):\")\n",
    "df_ordenado.show()\n",
    "\n",
    "\n",
    "df_maiusculo = df.withColumn(\"nome\", upper(col(\"nome\")))\n",
    "print(\"Nomes em letras maiúsculas:\")\n",
    "df_maiusculo.show()\n"
   ]
  }
 ],
 "metadata": {
  "kernelspec": {
   "display_name": "Python 3",
   "language": "python",
   "name": "python3"
  },
  "language_info": {
   "codemirror_mode": {
    "name": "ipython",
    "version": 3
   },
   "file_extension": ".py",
   "mimetype": "text/x-python",
   "name": "python",
   "nbconvert_exporter": "python",
   "pygments_lexer": "ipython3",
   "version": "3.12.1"
  }
 },
 "nbformat": 4,
 "nbformat_minor": 5
}

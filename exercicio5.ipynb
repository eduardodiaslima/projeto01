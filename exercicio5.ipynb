{
 "cells": [
  {
   "cell_type": "code",
   "execution_count": 3,
   "id": "f1144e69",
   "metadata": {},
   "outputs": [
    {
     "name": "stdout",
     "output_type": "stream",
     "text": [
      "🔹 Dados carregados do arquivo JSON:\n",
      "+---------------+--------------+-----+-------+\n",
      "|_corrupt_record|        cidade|idade|   nome|\n",
      "+---------------+--------------+-----+-------+\n",
      "|              [|          NULL| NULL|   NULL|\n",
      "|           NULL|     São Paulo|   30|    Ana|\n",
      "|           NULL|Rio de Janeiro|   22|  Bruno|\n",
      "|           NULL|     São Paulo|   40| Carlos|\n",
      "|           NULL|Belo Horizonte|   25|Daniela|\n",
      "|           NULL|      Curitiba|   28|Eduardo|\n",
      "|              ]|          NULL| NULL|   NULL|\n",
      "+---------------+--------------+-----+-------+\n",
      "\n",
      "🔹 Pessoas com idade acima de 25 (filtradas):\n",
      "+---------------+---------+-----+-------+\n",
      "|_corrupt_record|   cidade|idade|   nome|\n",
      "+---------------+---------+-----+-------+\n",
      "|           NULL|São Paulo|   30|    Ana|\n",
      "|           NULL|São Paulo|   40| Carlos|\n",
      "|           NULL| Curitiba|   28|Eduardo|\n",
      "+---------------+---------+-----+-------+\n",
      "\n",
      "✅ Arquivo Parquet salvo com sucesso em 'saida_parquet/'\n"
     ]
    },
    {
     "name": "stderr",
     "output_type": "stream",
     "text": [
      "                                                                                \r"
     ]
    }
   ],
   "source": [
    "from pyspark.sql import SparkSession\n",
    "from pyspark.sql.functions import col\n",
    "\n",
    "spark = SparkSession.builder.appName(\"LeituraEscritaDados\").getOrCreate()\n",
    "\n",
    "df_json = spark.read.json(\"./utilizaveis/dados.json\")\n",
    "\n",
    "print(\"🔹 Dados carregados do arquivo JSON:\")\n",
    "df_json.show()\n",
    "\n",
    "\n",
    "df_filtrado = df_json.filter(col(\"idade\") > 25)\n",
    "\n",
    "print(\"🔹 Pessoas com idade acima de 25 (filtradas):\")\n",
    "df_filtrado.show()\n",
    "\n",
    "\n",
    "df_filtrado.write.mode(\"overwrite\").parquet(\"saida_parquet\")\n",
    "\n",
    "print(\"✅ Arquivo Parquet salvo com sucesso em 'saida_parquet/'\")\n"
   ]
  }
 ],
 "metadata": {
  "kernelspec": {
   "display_name": "Python 3",
   "language": "python",
   "name": "python3"
  },
  "language_info": {
   "codemirror_mode": {
    "name": "ipython",
    "version": 3
   },
   "file_extension": ".py",
   "mimetype": "text/x-python",
   "name": "python",
   "nbconvert_exporter": "python",
   "pygments_lexer": "ipython3",
   "version": "3.12.1"
  }
 },
 "nbformat": 4,
 "nbformat_minor": 5
}
